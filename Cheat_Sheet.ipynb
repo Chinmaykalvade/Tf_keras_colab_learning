{
  "nbformat": 4,
  "nbformat_minor": 0,
  "metadata": {
    "colab": {
      "name": "Cheat Sheet.ipynb",
      "version": "0.3.2",
      "provenance": [],
      "collapsed_sections": [],
      "include_colab_link": true
    },
    "kernelspec": {
      "name": "python3",
      "display_name": "Python 3"
    }
  },
  "cells": [
    {
      "cell_type": "markdown",
      "metadata": {
        "id": "view-in-github",
        "colab_type": "text"
      },
      "source": [
        "<a href=\"https://colab.research.google.com/github/Chinmaykalvade/Tf_keras_colab_learning/blob/master/Cheat_Sheet.ipynb\" target=\"_parent\"><img src=\"https://colab.research.google.com/assets/colab-badge.svg\" alt=\"Open In Colab\"/></a>"
      ]
    },
    {
      "cell_type": "markdown",
      "metadata": {
        "id": "eccn2QQIkTln",
        "colab_type": "text"
      },
      "source": [
        "Basic **Commands**"
      ]
    },
    {
      "cell_type": "code",
      "metadata": {
        "id": "dRlyCkFij-Es",
        "colab_type": "code",
        "colab": {}
      },
      "source": [
        "!pwd #get directory\n",
        "cd /content/sample data\n",
        "cd .. # go back to content directory\n",
        "!ls\n",
        "!git clone\n",
        "!rm -rf xyz.py#remove files forcibly\n",
        "\n",
        "#unzip files directly in colab:\n",
        "from zipfile import ZipFile\n",
        "file_name-\"data.zip\"\n",
        "  #opening the zip file in readme mode\n",
        "with ZipFile(file_name,'r') as zip:\n",
        "  print('Extracting file')\n",
        "  zip.extractall()\n",
        "  print('Done')"
      ],
      "execution_count": 0,
      "outputs": []
    },
    {
      "cell_type": "markdown",
      "metadata": {
        "id": "tLWgTV2Vlz8b",
        "colab_type": "text"
      },
      "source": [
        "Advanced **Commands**"
      ]
    },
    {
      "cell_type": "code",
      "metadata": {
        "id": "T0WjRBoxl5XZ",
        "colab_type": "code",
        "colab": {}
      },
      "source": [
        "#check computation device\n",
        "from tensorflow.python.client import device_lib\n",
        "device_lib.list_local_devices()\n",
        "\n",
        "!cat /proc/cpuinfo #cpu info\n",
        "!cat /proc/meminfo #memory alloc info\n",
        "\n",
        "import tensorflow as tf\n",
        "tf.nn.sigmoid_cross_entropy_with logits? #check documentation of a function with A ?"
      ],
      "execution_count": 0,
      "outputs": []
    },
    {
      "cell_type": "markdown",
      "metadata": {
        "id": "dMxkl_VQnKLb",
        "colab_type": "text"
      },
      "source": [
        "**Import dataset from Kaggle**"
      ]
    },
    {
      "cell_type": "code",
      "metadata": {
        "id": "P7rnWPVCnJMH",
        "colab_type": "code",
        "colab": {}
      },
      "source": [
        "# install dependencies\n",
        "!pip install kaggle\n",
        "#create new API token from your kaggle settings page-> download json file\n",
        "from google.colab import files\n",
        "files.upload()# upload the json file\n",
        "\n",
        "# now,\n",
        "!mkdir -p ~/.kaggle\n",
        "!cp kaggle.json ~/.kaggle/\n",
        "!chmod 600 ~/.kaggle/kaggle.json\n",
        "\n",
        "# go to kaggle->datasets->copy API link(kaggle datasets download -d himanshupoddar/zomato-bangalore-restaurants)\n",
        "!kaggle datasets download -d himanshupoddar/zomato-bangalore-restaurants\n",
        "#dataset usually imported as .zip file, run zipfile exraction code"
      ],
      "execution_count": 0,
      "outputs": []
    },
    {
      "cell_type": "markdown",
      "metadata": {
        "id": "IT5NredGuU-u",
        "colab_type": "text"
      },
      "source": [
        "Import Dataset from **google Drive**"
      ]
    },
    {
      "cell_type": "code",
      "metadata": {
        "id": "01S9TWrquUFW",
        "colab_type": "code",
        "colab": {}
      },
      "source": [
        "from google.colab import drive\n",
        "\n",
        "drive.mount('/content/gdrive',force_remount=True)\n",
        "root_path = 'gdrive/My Drive/'\n",
        "# add whatever folder you need to root path after My Drive/"
      ],
      "execution_count": 0,
      "outputs": []
    },
    {
      "cell_type": "markdown",
      "metadata": {
        "id": "WoCq9nawuyqs",
        "colab_type": "text"
      },
      "source": [
        "Importing functions .py files\n",
        "\n",
        "**Note- .ipynb files cannot be imported this way**"
      ]
    },
    {
      "cell_type": "code",
      "metadata": {
        "id": "GNTv7jgVueJD",
        "colab_type": "code",
        "colab": {}
      },
      "source": [
        "#  if file in /content directory\n",
        "from hello.py import hello  # e.g- hello.py exists with some function hello\n",
        "\n",
        "# if file is in /content/sample folder\n",
        "import sys\n",
        "sys.path .insert(0,'/content/my_project')\n",
        "\n",
        "from ex1 import state"
      ],
      "execution_count": 0,
      "outputs": []
    },
    {
      "cell_type": "markdown",
      "metadata": {
        "id": "NDUHGOoEwDVf",
        "colab_type": "text"
      },
      "source": [
        "# Fundamentals of tensorflow\n",
        "tensorflow program has a basic structure consisting of 2 main steps:\n",
        "1. Create a computational graph \n",
        "2. Run the computational graph\n",
        "\n",
        "below are some code snippet to quickly perform some basic operations\n"
      ]
    },
    {
      "cell_type": "code",
      "metadata": {
        "id": "WpPoGmJYwCUz",
        "colab_type": "code",
        "colab": {}
      },
      "source": [
        "import tensorflow as tf\n",
        "a = tf.constants(5)\n",
        "b = tf.constants(10)\n",
        "c=a+b\n",
        "# Launch the graph in a session:\n",
        "with tf.Session() as sess:\n",
        "  output= sess.run(c)\n",
        "  print(output)\n",
        "\n",
        "  \n",
        "# for more info on sessions: https://www.tensorflow.org/api_docs/python/tf/Session"
      ],
      "execution_count": 0,
      "outputs": []
    },
    {
      "cell_type": "code",
      "metadata": {
        "id": "3hsrfye1ueaG",
        "colab_type": "code",
        "colab": {}
      },
      "source": [
        ""
      ],
      "execution_count": 0,
      "outputs": []
    },
    {
      "cell_type": "code",
      "metadata": {
        "id": "Oqgag46DwAY4",
        "colab_type": "code",
        "colab": {}
      },
      "source": [
        ""
      ],
      "execution_count": 0,
      "outputs": []
    }
  ]
}